{
 "cells": [
  {
   "cell_type": "code",
   "execution_count": 111,
   "metadata": {},
   "outputs": [
    {
     "name": "stdout",
     "output_type": "stream",
     "text": [
      "Required libraries loaded successfully\n"
     ]
    }
   ],
   "source": [
    "# import required libraries\n",
    "import pandas as pd\n",
    "import requests\n",
    "import matplotlib.pyplot as plt\n",
    "import numpy as np\n",
    "import duckdb\n",
    "import urllib\n",
    "import time\n",
    "import plotly.express as px\n",
    "print(\"Required libraries loaded successfully\")"
   ]
  },
  {
   "cell_type": "code",
   "execution_count": 112,
   "metadata": {
    "require": [
     "base/js/events",
     "datatables.net",
     "d3",
     "chartjs",
     "dt-config",
     "dt-components",
     "dt-graph-objects",
     "dt-toolbar",
     "dt-tooltips",
     "jupyter-datatables"
    ]
   },
   "outputs": [],
   "source": [
    "def literary_rate_data(url):\n",
    "    \"\"\"Returns the literacy rate cleaned up dataframe\"\"\"\n",
    "    #url = \"https://www.census2011.co.in/literacy.php\"\n",
    "    header = {\n",
    "        \"User-Agent\": \"Mozilla/5.0 (X11; Linux x86_64) AppleWebKit/537.36 (KHTML, like Gecko) \\\n",
    "        Chrome/50.0.2661.75 Safari/537.36\",\n",
    "        \"X-Requested-With\": \"XMLHttpRequest\",\n",
    "    }\n",
    "\n",
    "    r = requests.get(url, headers=header)\n",
    "\n",
    "    dfs = pd.read_html(r.text)\n",
    "    # print(f'Total tables: {len(dfs)}')\n",
    "    df = dfs[0]\n",
    "\n",
    "    # print(df.columns)\n",
    "    df.drop(columns=[\"#\"], inplace=True)\n",
    "    #print(df.head())\n",
    "    #return  df.sort_values([\"Male\"], ascending=[False], inplace=True)\n",
    "    return (df.sort_values([\"Male\"], ascending=[False]))\n",
    "    #df.head(5)"
   ]
  },
  {
   "cell_type": "code",
   "execution_count": 113,
   "metadata": {},
   "outputs": [],
   "source": [
    "def urban_rural_pop_data(url):\n",
    "    \"\"\"Returns the rural urbal population dataframe in % percent statewise\"\"\"\n",
    "    delay = 5\n",
    "    max_retries = 3\n",
    "    for _ in range(max_retries):\n",
    "        try:\n",
    "            df = pd.read_excel(url\n",
    "                #r\"https://censusindia.gov.in/nada/index.php/catalog/42555/download/46181/2011-IndiaState-0000.xlsx\"\n",
    "                #url\n",
    "            )\n",
    "            \n",
    "            break                # do not loop after a successfull download...\n",
    "        except urllib.error.URLError:\n",
    "            time.sleep(delay)\n",
    "            delay *= 2\n",
    "    else:                # signal an abort if download was not possible\n",
    "        print(f\"Failed for {url} after {max_retries} attempt\")\n",
    "        # or if you want to abort the script\n",
    "        # raise Exception(f\"Failed for {url} after {max_retries} attempt\")\n",
    "    \"\"\"df = pd.read_excel(url\n",
    "        #r\"https://censusindia.gov.in/nada/index.php/catalog/42555/download/46181/2011-IndiaState-0000.xlsx\"\n",
    "        #url\n",
    "    )\"\"\"\n",
    "    pd.options.display.float_format = \"{:.2f}\".format  # To remove scientifc numbers\n",
    "    #df.head()\n",
    "    df_new = duckdb.query(\n",
    "        f\"\"\" \n",
    "    SELECT NAME  \n",
    "    ,round(cast(URBAN_POP*100 as float)/TOTAL_POP, 2) as \"Urban Population\" \n",
    "    ,round(cast(RURAL_POP*100 as float)/TOTAL_POP, 2) as \"Rural Population\" \n",
    "    FROM \n",
    "    (\n",
    "        SELECT NAME, SUM(TOTAL_POP) TOTAL_POP, SUM(RURAL_POP) RURAL_POP, SUM(URBAN_POP) URBAN_POP  \n",
    "        FROM \n",
    "        (\n",
    "            select Name, Tot_P as Total_pop, Null as Rural_pop, null as Urban_pop from df where TRU = 'Total' \n",
    "            UNION\n",
    "            select Name, Null as Total_pop, Tot_P as Rural_pop, null as Urban_pop from df where TRU = 'Rural'\n",
    "            UNION\n",
    "            select Name, Null as Total_pop, Null as Rural_pop, Tot_P as Urban_pop from df where TRU = 'Urban'\n",
    "        ) A GROUP BY NAME\n",
    "    ) B\n",
    "    \"\"\"\n",
    "    ).to_df()\n",
    "    return df_new"
   ]
  },
  {
   "cell_type": "code",
   "execution_count": 114,
   "metadata": {},
   "outputs": [],
   "source": [
    "# Reference: https://colab.research.google.com/drive/1lKuaZUp8LggiDFbct0-DcUDMMYdvO4Tp?usp=sharing#scrollTo=sBkAKOCTYOek\n",
    "def color_title(\n",
    "    labels, colors, textprops={\"size\": \"large\"}, ax=None, y=1.013, precision=10**-2\n",
    "):\n",
    "\n",
    "    \"Creates a centered title with multiple colors. Don't change axes limits afterwards.\"\n",
    "\n",
    "    if ax == None:\n",
    "        ax = plt.gca()\n",
    "\n",
    "    plt.gcf().canvas.draw()\n",
    "    transform = ax.transAxes  # use axes coords\n",
    "\n",
    "    # initial params\n",
    "    xT = 0  # where the text ends in x-axis coords\n",
    "    shift = 0  # where the text starts\n",
    "\n",
    "    # for text objects\n",
    "    text = dict()\n",
    "\n",
    "    while (np.abs(shift - (1 - xT)) > precision) and (shift <= xT):\n",
    "        x_pos = shift\n",
    "\n",
    "        for label, col in zip(labels, colors):\n",
    "\n",
    "            try:\n",
    "                text[label].remove()\n",
    "            except KeyError:\n",
    "                pass\n",
    "\n",
    "            text[label] = ax.text(\n",
    "                x_pos, y, label, transform=transform, ha=\"left\", color=col, **textprops\n",
    "            )\n",
    "\n",
    "            x_pos = text[label].get_window_extent().transformed(transform.inverted()).x1\n",
    "\n",
    "        xT = x_pos  # where all text ends\n",
    "\n",
    "        shift += precision / 2  # increase for next iteration\n",
    "\n",
    "        if x_pos > 1:  # guardrail\n",
    "            break\n"
   ]
  },
  {
   "cell_type": "code",
   "execution_count": 115,
   "metadata": {},
   "outputs": [],
   "source": [
    "def create_dumbell(df, xaxis1, yaxis1, xaxis2, yaxis2,filename=\"dumbell_plot\"):\n",
    "    \"\"\" creating the dumbell plot using matplotlib based on dataframe passed as input\n",
    "\n",
    "    Args:\n",
    "        df (dataframe): input df to be used as source data\n",
    "        xaxis1 (series): \n",
    "        yaxis1 (series): \n",
    "        xaxis2 (series): \n",
    "        yaxis2 (series): \n",
    "    \"\"\"\n",
    "    # Create playground\n",
    "    fig, ax = plt.subplots(figsize=(10, 8))\n",
    "\n",
    "    # Visuals\n",
    "    df.plot.scatter(x=xaxis1, y=yaxis1, ax=ax, color=\"#1E1E1E\", s=60)\n",
    "    df.plot.scatter(x=xaxis2, y=yaxis2, ax=ax, c=\"#FC7D0B\", s=60)\n",
    "    ax.hlines(\n",
    "        y=range(0, len(df.index)),\n",
    "        xmin=df[xaxis2],\n",
    "        xmax=df[xaxis1],\n",
    "        linewidth=5,\n",
    "        color=\"#BDBDBD\",\n",
    "        zorder=0,\n",
    "    )\n",
    "\n",
    "    # Background and remove noise\n",
    "    ax.set_facecolor(\"#F5F5F5\")\n",
    "    ax.spines[[\"bottom\", \"top\", \"left\", \"right\"]].set_visible(False)\n",
    "    ax.tick_params(axis=\"both\", length=0)\n",
    "    ax.set(ylabel=None)\n",
    "    ax.set(xlabel=None)\n",
    "\n",
    "    # Title color\n",
    "    text1 = \"Literacy % \" if \"literacy\" in filename.lower() else \"Population divide \"\n",
    "    label_list = [text1, xaxis2, \" and \", xaxis1, \" Statewise\"]\n",
    "    colors = [\"#969FA7\", \"#FC7D0B\", \"#969FA7\", \"#1E1E1E\", \"#969FA7\"]\n",
    "    color_title(label_list, colors)\n",
    "\n",
    "    #plt.text(0, -4, \"Source: Census India 2011\", c=\"#969FA7\")\n",
    "    # plt.show()\n",
    "    filename\n",
    "    xplot = 40 if \"literacy\" in filename.lower() else 0\n",
    "    plt.text(xplot, -4, \"Source: Census India 2011\", c=\"#969FA7\")\n",
    "\n",
    "    plt.savefig(\n",
    "        #\"RuralUrbanPopulationStatewise.png\",\n",
    "        filename,\n",
    "        dpi=300,\n",
    "        facecolor=\"#F5F5F5\",\n",
    "        bbox_inches=\"tight\",\n",
    "    )\n"
   ]
  },
  {
   "cell_type": "code",
   "execution_count": 116,
   "metadata": {},
   "outputs": [],
   "source": [
    "def generate_plotly_dumbell_plot(df):\n",
    "    \n",
    "\n",
    "    #state_list = df_literacy.State.to_list()\n",
    "    #print()\n",
    "    df_melt = pd.melt(df,id_vars=\"State\", value_vars=[\"Male\", \"Female\"], value_name=\"Percent\", \\\n",
    "                    var_name=\"Sex\").sort_values(\"State\")\n",
    "    #df_melt.head()\n",
    "    #df_melt = df_melt.merge(df_pop, on =\"State\" )\n",
    "    print(df_melt.head())\n",
    "    fig = px.scatter(df_melt.sort_values([\"Percent\"], ascending=[False]), x=\"Percent\", y=\"State\"\n",
    "                    , color=\"Sex\" #size=\"Percent\", \n",
    "                    ,size_max=11\n",
    "                    ,size= \"Percent\"\n",
    "                    ,color_discrete_sequence=[\n",
    "                    \"#FC7D0B\", \"#1E1E1E\"]\n",
    "                    #,category_orders={\"State\":state_list}, \n",
    "                    ,height=700\n",
    "                    ,width=1000\n",
    "                    , title=\"Census 2011 India: Statewise literacy % Male vs Female\")\n",
    "    # iterate on each region\n",
    "    for i in df_melt[\"State\"].unique():\n",
    "        # filter by region\n",
    "        df_sub = df_melt[df_melt[\"State\"] == i]\n",
    "        \n",
    "        fig.add_shape(\n",
    "            type=\"line\",\n",
    "            layer=\"below\",\n",
    "            # connect the two markers\n",
    "            ## e.g., y0='Robredo', x0=43.53\n",
    "            y0=df_sub.State.values[0], x0=df_sub.Percent.values[0],\n",
    "            ## e.g., y1='Marcos', x1=26.60\n",
    "            y1=df_sub.State.values[1], x1=df_sub.Percent.values[1],\n",
    "            line=dict(color=\"#BDBDBD\",width=5), \n",
    "        )\n",
    "    fig.update_layout(xaxis=dict(showgrid=False),  \n",
    "                yaxis=dict(showgrid=False), yaxis_title=None, xaxis_title=None,\n",
    "                    margin=dict(l=5, r=20, t=30, b=20),\n",
    "        paper_bgcolor=\"whitesmoke\", plot_bgcolor = \"whitesmoke\"\n",
    "    )\n",
    "    fig.update_traces(marker=dict(opacity=1))\n",
    "    #                              line=dict(width=2,\n",
    "    #                                        color='black')),\n",
    "    #                  selector=dict(mode='markers'))\n",
    "    #fig = px.scatter(df_literacy, x=\"Male\", y=\"State\")\n",
    "    #fig.add_scatter(df_literacy, x=\"Female\", y=\"State\")\n",
    "    fig.write_html(\"literacyrate_plotly.html\")\n",
    "    fig.show()"
   ]
  },
  {
   "cell_type": "code",
   "execution_count": 117,
   "metadata": {},
   "outputs": [
    {
     "name": "stdout",
     "output_type": "stream",
     "text": [
      "                          State     Sex  Percent\n",
      "44  Andaman and Nicobar Islands  Female    82.43\n",
      "8   Andaman and Nicobar Islands    Male    90.27\n",
      "69               Andhra Pradesh  Female    59.15\n",
      "33               Andhra Pradesh    Male    74.88\n",
      "70            Arunachal Pradesh  Female    57.70\n"
     ]
    },
    {
     "data": {
      "application/vnd.plotly.v1+json": {
       "config": {
        "plotlyServerURL": "https://plot.ly"
       },
       "data": [
        {
         "hovertemplate": "Sex=Male<br>Percent=%{marker.size}<br>State=%{y}<extra></extra>",
         "legendgroup": "Male",
         "marker": {
          "color": "#FC7D0B",
          "opacity": 1,
          "size": [
           96.11,
           95.56,
           93.35,
           92.65,
           91.54,
           91.53,
           91.26,
           90.94,
           90.27,
           89.99,
           89.53,
           88.38,
           87.4,
           86.77,
           86.55,
           85.75,
           85.17,
           84.06,
           83.58,
           82.75,
           82.47,
           82.14,
           81.69,
           81.59,
           80.44,
           80.27,
           79.19,
           78.73,
           77.85,
           77.28,
           76.84,
           76.75,
           75.95,
           74.88,
           72.55,
           71.2
          ],
          "sizemode": "area",
          "sizeref": 0.794297520661157,
          "symbol": "circle"
         },
         "mode": "markers",
         "name": "Male",
         "orientation": "h",
         "showlegend": true,
         "type": "scatter",
         "x": [
          96.11,
          95.56,
          93.35,
          92.65,
          91.54,
          91.53,
          91.26,
          90.94,
          90.27,
          89.99,
          89.53,
          88.38,
          87.4,
          86.77,
          86.55,
          85.75,
          85.17,
          84.06,
          83.58,
          82.75,
          82.47,
          82.14,
          81.69,
          81.59,
          80.44,
          80.27,
          79.19,
          78.73,
          77.85,
          77.28,
          76.84,
          76.75,
          75.95,
          74.88,
          72.55,
          71.2
         ],
         "xaxis": "x",
         "y": [
          "Kerala",
          "Lakshadweep",
          "Mizoram",
          "Goa",
          "Daman and Diu",
          "Tripura",
          "Puducherry",
          "Delhi",
          "Andaman and Nicobar Islands",
          "Chandigarh",
          "Himachal Pradesh",
          "Maharashtra",
          "Uttarakhand",
          "Tamil Nadu",
          "Sikkim",
          "Gujarat",
          "Dadra and Nagar Haveli",
          "Haryana",
          "Manipur",
          "Nagaland",
          "Karnataka",
          "India",
          "West Bengal",
          "Orissa",
          "Punjab",
          "Chhattisgarh",
          "Rajasthan",
          "Madhya Pradesh",
          "Assam",
          "Uttar Pradesh",
          "Jharkhand",
          "Jammu and Kashmir",
          "Meghalaya",
          "Andhra Pradesh",
          "Arunachal Pradesh",
          "Bihar"
         ],
         "yaxis": "y"
        },
        {
         "hovertemplate": "Sex=Female<br>Percent=%{marker.size}<br>State=%{y}<extra></extra>",
         "legendgroup": "Female",
         "marker": {
          "color": "#1E1E1E",
          "opacity": 1,
          "size": [
           92.07,
           89.27,
           87.95,
           84.66,
           82.73,
           82.43,
           81.19,
           80.76,
           80.67,
           79.55,
           76.11,
           75.93,
           75.87,
           75.61,
           73.44,
           72.89,
           70.73,
           70.54,
           70.26,
           70.01,
           69.68,
           68.08,
           66.27,
           65.94,
           65.46,
           64.32,
           64.01,
           60.24,
           59.24,
           59.15,
           57.7,
           57.18,
           56.43,
           55.42,
           52.12,
           51.5
          ],
          "sizemode": "area",
          "sizeref": 0.794297520661157,
          "symbol": "circle"
         },
         "mode": "markers",
         "name": "Female",
         "orientation": "h",
         "showlegend": true,
         "type": "scatter",
         "x": [
          92.07,
          89.27,
          87.95,
          84.66,
          82.73,
          82.43,
          81.19,
          80.76,
          80.67,
          79.55,
          76.11,
          75.93,
          75.87,
          75.61,
          73.44,
          72.89,
          70.73,
          70.54,
          70.26,
          70.01,
          69.68,
          68.08,
          66.27,
          65.94,
          65.46,
          64.32,
          64.01,
          60.24,
          59.24,
          59.15,
          57.7,
          57.18,
          56.43,
          55.42,
          52.12,
          51.5
         ],
         "xaxis": "x",
         "y": [
          "Kerala",
          "Mizoram",
          "Lakshadweep",
          "Goa",
          "Tripura",
          "Andaman and Nicobar Islands",
          "Chandigarh",
          "Delhi",
          "Puducherry",
          "Daman and Diu",
          "Nagaland",
          "Himachal Pradesh",
          "Maharashtra",
          "Sikkim",
          "Tamil Nadu",
          "Meghalaya",
          "Punjab",
          "West Bengal",
          "Manipur",
          "Uttarakhand",
          "Gujarat",
          "Karnataka",
          "Assam",
          "Haryana",
          "India",
          "Dadra and Nagar Haveli",
          "Orissa",
          "Chhattisgarh",
          "Madhya Pradesh",
          "Andhra Pradesh",
          "Arunachal Pradesh",
          "Uttar Pradesh",
          "Jammu and Kashmir",
          "Jharkhand",
          "Rajasthan",
          "Bihar"
         ],
         "yaxis": "y"
        }
       ],
       "layout": {
        "height": 700,
        "legend": {
         "itemsizing": "constant",
         "title": {
          "text": "Sex"
         },
         "tracegroupgap": 0
        },
        "margin": {
         "b": 20,
         "l": 5,
         "r": 20,
         "t": 30
        },
        "paper_bgcolor": "whitesmoke",
        "plot_bgcolor": "whitesmoke",
        "shapes": [
         {
          "layer": "below",
          "line": {
           "color": "#BDBDBD",
           "width": 5
          },
          "type": "line",
          "x0": 82.43,
          "x1": 90.27,
          "y0": "Andaman and Nicobar Islands",
          "y1": "Andaman and Nicobar Islands"
         },
         {
          "layer": "below",
          "line": {
           "color": "#BDBDBD",
           "width": 5
          },
          "type": "line",
          "x0": 59.15,
          "x1": 74.88,
          "y0": "Andhra Pradesh",
          "y1": "Andhra Pradesh"
         },
         {
          "layer": "below",
          "line": {
           "color": "#BDBDBD",
           "width": 5
          },
          "type": "line",
          "x0": 57.7,
          "x1": 72.55,
          "y0": "Arunachal Pradesh",
          "y1": "Arunachal Pradesh"
         },
         {
          "layer": "below",
          "line": {
           "color": "#BDBDBD",
           "width": 5
          },
          "type": "line",
          "x0": 66.27,
          "x1": 77.85,
          "y0": "Assam",
          "y1": "Assam"
         },
         {
          "layer": "below",
          "line": {
           "color": "#BDBDBD",
           "width": 5
          },
          "type": "line",
          "x0": 71.2,
          "x1": 51.5,
          "y0": "Bihar",
          "y1": "Bihar"
         },
         {
          "layer": "below",
          "line": {
           "color": "#BDBDBD",
           "width": 5
          },
          "type": "line",
          "x0": 89.99,
          "x1": 81.19,
          "y0": "Chandigarh",
          "y1": "Chandigarh"
         },
         {
          "layer": "below",
          "line": {
           "color": "#BDBDBD",
           "width": 5
          },
          "type": "line",
          "x0": 60.24,
          "x1": 80.27,
          "y0": "Chhattisgarh",
          "y1": "Chhattisgarh"
         },
         {
          "layer": "below",
          "line": {
           "color": "#BDBDBD",
           "width": 5
          },
          "type": "line",
          "x0": 64.32,
          "x1": 85.17,
          "y0": "Dadra and Nagar Haveli",
          "y1": "Dadra and Nagar Haveli"
         },
         {
          "layer": "below",
          "line": {
           "color": "#BDBDBD",
           "width": 5
          },
          "type": "line",
          "x0": 79.55,
          "x1": 91.54,
          "y0": "Daman and Diu",
          "y1": "Daman and Diu"
         },
         {
          "layer": "below",
          "line": {
           "color": "#BDBDBD",
           "width": 5
          },
          "type": "line",
          "x0": 80.76,
          "x1": 90.94,
          "y0": "Delhi",
          "y1": "Delhi"
         },
         {
          "layer": "below",
          "line": {
           "color": "#BDBDBD",
           "width": 5
          },
          "type": "line",
          "x0": 92.65,
          "x1": 84.66,
          "y0": "Goa",
          "y1": "Goa"
         },
         {
          "layer": "below",
          "line": {
           "color": "#BDBDBD",
           "width": 5
          },
          "type": "line",
          "x0": 85.75,
          "x1": 69.68,
          "y0": "Gujarat",
          "y1": "Gujarat"
         },
         {
          "layer": "below",
          "line": {
           "color": "#BDBDBD",
           "width": 5
          },
          "type": "line",
          "x0": 65.94,
          "x1": 84.06,
          "y0": "Haryana",
          "y1": "Haryana"
         },
         {
          "layer": "below",
          "line": {
           "color": "#BDBDBD",
           "width": 5
          },
          "type": "line",
          "x0": 75.93,
          "x1": 89.53,
          "y0": "Himachal Pradesh",
          "y1": "Himachal Pradesh"
         },
         {
          "layer": "below",
          "line": {
           "color": "#BDBDBD",
           "width": 5
          },
          "type": "line",
          "x0": 82.14,
          "x1": 65.46,
          "y0": "India",
          "y1": "India"
         },
         {
          "layer": "below",
          "line": {
           "color": "#BDBDBD",
           "width": 5
          },
          "type": "line",
          "x0": 76.75,
          "x1": 56.43,
          "y0": "Jammu and Kashmir",
          "y1": "Jammu and Kashmir"
         },
         {
          "layer": "below",
          "line": {
           "color": "#BDBDBD",
           "width": 5
          },
          "type": "line",
          "x0": 76.84,
          "x1": 55.42,
          "y0": "Jharkhand",
          "y1": "Jharkhand"
         },
         {
          "layer": "below",
          "line": {
           "color": "#BDBDBD",
           "width": 5
          },
          "type": "line",
          "x0": 68.08,
          "x1": 82.47,
          "y0": "Karnataka",
          "y1": "Karnataka"
         },
         {
          "layer": "below",
          "line": {
           "color": "#BDBDBD",
           "width": 5
          },
          "type": "line",
          "x0": 96.11,
          "x1": 92.07,
          "y0": "Kerala",
          "y1": "Kerala"
         },
         {
          "layer": "below",
          "line": {
           "color": "#BDBDBD",
           "width": 5
          },
          "type": "line",
          "x0": 87.95,
          "x1": 95.56,
          "y0": "Lakshadweep",
          "y1": "Lakshadweep"
         },
         {
          "layer": "below",
          "line": {
           "color": "#BDBDBD",
           "width": 5
          },
          "type": "line",
          "x0": 59.24,
          "x1": 78.73,
          "y0": "Madhya Pradesh",
          "y1": "Madhya Pradesh"
         },
         {
          "layer": "below",
          "line": {
           "color": "#BDBDBD",
           "width": 5
          },
          "type": "line",
          "x0": 88.38,
          "x1": 75.87,
          "y0": "Maharashtra",
          "y1": "Maharashtra"
         },
         {
          "layer": "below",
          "line": {
           "color": "#BDBDBD",
           "width": 5
          },
          "type": "line",
          "x0": 83.58,
          "x1": 70.26,
          "y0": "Manipur",
          "y1": "Manipur"
         },
         {
          "layer": "below",
          "line": {
           "color": "#BDBDBD",
           "width": 5
          },
          "type": "line",
          "x0": 75.95,
          "x1": 72.89,
          "y0": "Meghalaya",
          "y1": "Meghalaya"
         },
         {
          "layer": "below",
          "line": {
           "color": "#BDBDBD",
           "width": 5
          },
          "type": "line",
          "x0": 93.35,
          "x1": 89.27,
          "y0": "Mizoram",
          "y1": "Mizoram"
         },
         {
          "layer": "below",
          "line": {
           "color": "#BDBDBD",
           "width": 5
          },
          "type": "line",
          "x0": 82.75,
          "x1": 76.11,
          "y0": "Nagaland",
          "y1": "Nagaland"
         },
         {
          "layer": "below",
          "line": {
           "color": "#BDBDBD",
           "width": 5
          },
          "type": "line",
          "x0": 81.59,
          "x1": 64.01,
          "y0": "Orissa",
          "y1": "Orissa"
         },
         {
          "layer": "below",
          "line": {
           "color": "#BDBDBD",
           "width": 5
          },
          "type": "line",
          "x0": 80.67,
          "x1": 91.26,
          "y0": "Puducherry",
          "y1": "Puducherry"
         },
         {
          "layer": "below",
          "line": {
           "color": "#BDBDBD",
           "width": 5
          },
          "type": "line",
          "x0": 80.44,
          "x1": 70.73,
          "y0": "Punjab",
          "y1": "Punjab"
         },
         {
          "layer": "below",
          "line": {
           "color": "#BDBDBD",
           "width": 5
          },
          "type": "line",
          "x0": 52.12,
          "x1": 79.19,
          "y0": "Rajasthan",
          "y1": "Rajasthan"
         },
         {
          "layer": "below",
          "line": {
           "color": "#BDBDBD",
           "width": 5
          },
          "type": "line",
          "x0": 86.55,
          "x1": 75.61,
          "y0": "Sikkim",
          "y1": "Sikkim"
         },
         {
          "layer": "below",
          "line": {
           "color": "#BDBDBD",
           "width": 5
          },
          "type": "line",
          "x0": 86.77,
          "x1": 73.44,
          "y0": "Tamil Nadu",
          "y1": "Tamil Nadu"
         },
         {
          "layer": "below",
          "line": {
           "color": "#BDBDBD",
           "width": 5
          },
          "type": "line",
          "x0": 82.73,
          "x1": 91.53,
          "y0": "Tripura",
          "y1": "Tripura"
         },
         {
          "layer": "below",
          "line": {
           "color": "#BDBDBD",
           "width": 5
          },
          "type": "line",
          "x0": 57.18,
          "x1": 77.28,
          "y0": "Uttar Pradesh",
          "y1": "Uttar Pradesh"
         },
         {
          "layer": "below",
          "line": {
           "color": "#BDBDBD",
           "width": 5
          },
          "type": "line",
          "x0": 87.4,
          "x1": 70.01,
          "y0": "Uttarakhand",
          "y1": "Uttarakhand"
         },
         {
          "layer": "below",
          "line": {
           "color": "#BDBDBD",
           "width": 5
          },
          "type": "line",
          "x0": 81.69,
          "x1": 70.54,
          "y0": "West Bengal",
          "y1": "West Bengal"
         }
        ],
        "template": {
         "data": {
          "bar": [
           {
            "error_x": {
             "color": "#2a3f5f"
            },
            "error_y": {
             "color": "#2a3f5f"
            },
            "marker": {
             "line": {
              "color": "#E5ECF6",
              "width": 0.5
             },
             "pattern": {
              "fillmode": "overlay",
              "size": 10,
              "solidity": 0.2
             }
            },
            "type": "bar"
           }
          ],
          "barpolar": [
           {
            "marker": {
             "line": {
              "color": "#E5ECF6",
              "width": 0.5
             },
             "pattern": {
              "fillmode": "overlay",
              "size": 10,
              "solidity": 0.2
             }
            },
            "type": "barpolar"
           }
          ],
          "carpet": [
           {
            "aaxis": {
             "endlinecolor": "#2a3f5f",
             "gridcolor": "white",
             "linecolor": "white",
             "minorgridcolor": "white",
             "startlinecolor": "#2a3f5f"
            },
            "baxis": {
             "endlinecolor": "#2a3f5f",
             "gridcolor": "white",
             "linecolor": "white",
             "minorgridcolor": "white",
             "startlinecolor": "#2a3f5f"
            },
            "type": "carpet"
           }
          ],
          "choropleth": [
           {
            "colorbar": {
             "outlinewidth": 0,
             "ticks": ""
            },
            "type": "choropleth"
           }
          ],
          "contour": [
           {
            "colorbar": {
             "outlinewidth": 0,
             "ticks": ""
            },
            "colorscale": [
             [
              0,
              "#0d0887"
             ],
             [
              0.1111111111111111,
              "#46039f"
             ],
             [
              0.2222222222222222,
              "#7201a8"
             ],
             [
              0.3333333333333333,
              "#9c179e"
             ],
             [
              0.4444444444444444,
              "#bd3786"
             ],
             [
              0.5555555555555556,
              "#d8576b"
             ],
             [
              0.6666666666666666,
              "#ed7953"
             ],
             [
              0.7777777777777778,
              "#fb9f3a"
             ],
             [
              0.8888888888888888,
              "#fdca26"
             ],
             [
              1,
              "#f0f921"
             ]
            ],
            "type": "contour"
           }
          ],
          "contourcarpet": [
           {
            "colorbar": {
             "outlinewidth": 0,
             "ticks": ""
            },
            "type": "contourcarpet"
           }
          ],
          "heatmap": [
           {
            "colorbar": {
             "outlinewidth": 0,
             "ticks": ""
            },
            "colorscale": [
             [
              0,
              "#0d0887"
             ],
             [
              0.1111111111111111,
              "#46039f"
             ],
             [
              0.2222222222222222,
              "#7201a8"
             ],
             [
              0.3333333333333333,
              "#9c179e"
             ],
             [
              0.4444444444444444,
              "#bd3786"
             ],
             [
              0.5555555555555556,
              "#d8576b"
             ],
             [
              0.6666666666666666,
              "#ed7953"
             ],
             [
              0.7777777777777778,
              "#fb9f3a"
             ],
             [
              0.8888888888888888,
              "#fdca26"
             ],
             [
              1,
              "#f0f921"
             ]
            ],
            "type": "heatmap"
           }
          ],
          "heatmapgl": [
           {
            "colorbar": {
             "outlinewidth": 0,
             "ticks": ""
            },
            "colorscale": [
             [
              0,
              "#0d0887"
             ],
             [
              0.1111111111111111,
              "#46039f"
             ],
             [
              0.2222222222222222,
              "#7201a8"
             ],
             [
              0.3333333333333333,
              "#9c179e"
             ],
             [
              0.4444444444444444,
              "#bd3786"
             ],
             [
              0.5555555555555556,
              "#d8576b"
             ],
             [
              0.6666666666666666,
              "#ed7953"
             ],
             [
              0.7777777777777778,
              "#fb9f3a"
             ],
             [
              0.8888888888888888,
              "#fdca26"
             ],
             [
              1,
              "#f0f921"
             ]
            ],
            "type": "heatmapgl"
           }
          ],
          "histogram": [
           {
            "marker": {
             "pattern": {
              "fillmode": "overlay",
              "size": 10,
              "solidity": 0.2
             }
            },
            "type": "histogram"
           }
          ],
          "histogram2d": [
           {
            "colorbar": {
             "outlinewidth": 0,
             "ticks": ""
            },
            "colorscale": [
             [
              0,
              "#0d0887"
             ],
             [
              0.1111111111111111,
              "#46039f"
             ],
             [
              0.2222222222222222,
              "#7201a8"
             ],
             [
              0.3333333333333333,
              "#9c179e"
             ],
             [
              0.4444444444444444,
              "#bd3786"
             ],
             [
              0.5555555555555556,
              "#d8576b"
             ],
             [
              0.6666666666666666,
              "#ed7953"
             ],
             [
              0.7777777777777778,
              "#fb9f3a"
             ],
             [
              0.8888888888888888,
              "#fdca26"
             ],
             [
              1,
              "#f0f921"
             ]
            ],
            "type": "histogram2d"
           }
          ],
          "histogram2dcontour": [
           {
            "colorbar": {
             "outlinewidth": 0,
             "ticks": ""
            },
            "colorscale": [
             [
              0,
              "#0d0887"
             ],
             [
              0.1111111111111111,
              "#46039f"
             ],
             [
              0.2222222222222222,
              "#7201a8"
             ],
             [
              0.3333333333333333,
              "#9c179e"
             ],
             [
              0.4444444444444444,
              "#bd3786"
             ],
             [
              0.5555555555555556,
              "#d8576b"
             ],
             [
              0.6666666666666666,
              "#ed7953"
             ],
             [
              0.7777777777777778,
              "#fb9f3a"
             ],
             [
              0.8888888888888888,
              "#fdca26"
             ],
             [
              1,
              "#f0f921"
             ]
            ],
            "type": "histogram2dcontour"
           }
          ],
          "mesh3d": [
           {
            "colorbar": {
             "outlinewidth": 0,
             "ticks": ""
            },
            "type": "mesh3d"
           }
          ],
          "parcoords": [
           {
            "line": {
             "colorbar": {
              "outlinewidth": 0,
              "ticks": ""
             }
            },
            "type": "parcoords"
           }
          ],
          "pie": [
           {
            "automargin": true,
            "type": "pie"
           }
          ],
          "scatter": [
           {
            "fillpattern": {
             "fillmode": "overlay",
             "size": 10,
             "solidity": 0.2
            },
            "type": "scatter"
           }
          ],
          "scatter3d": [
           {
            "line": {
             "colorbar": {
              "outlinewidth": 0,
              "ticks": ""
             }
            },
            "marker": {
             "colorbar": {
              "outlinewidth": 0,
              "ticks": ""
             }
            },
            "type": "scatter3d"
           }
          ],
          "scattercarpet": [
           {
            "marker": {
             "colorbar": {
              "outlinewidth": 0,
              "ticks": ""
             }
            },
            "type": "scattercarpet"
           }
          ],
          "scattergeo": [
           {
            "marker": {
             "colorbar": {
              "outlinewidth": 0,
              "ticks": ""
             }
            },
            "type": "scattergeo"
           }
          ],
          "scattergl": [
           {
            "marker": {
             "colorbar": {
              "outlinewidth": 0,
              "ticks": ""
             }
            },
            "type": "scattergl"
           }
          ],
          "scattermapbox": [
           {
            "marker": {
             "colorbar": {
              "outlinewidth": 0,
              "ticks": ""
             }
            },
            "type": "scattermapbox"
           }
          ],
          "scatterpolar": [
           {
            "marker": {
             "colorbar": {
              "outlinewidth": 0,
              "ticks": ""
             }
            },
            "type": "scatterpolar"
           }
          ],
          "scatterpolargl": [
           {
            "marker": {
             "colorbar": {
              "outlinewidth": 0,
              "ticks": ""
             }
            },
            "type": "scatterpolargl"
           }
          ],
          "scatterternary": [
           {
            "marker": {
             "colorbar": {
              "outlinewidth": 0,
              "ticks": ""
             }
            },
            "type": "scatterternary"
           }
          ],
          "surface": [
           {
            "colorbar": {
             "outlinewidth": 0,
             "ticks": ""
            },
            "colorscale": [
             [
              0,
              "#0d0887"
             ],
             [
              0.1111111111111111,
              "#46039f"
             ],
             [
              0.2222222222222222,
              "#7201a8"
             ],
             [
              0.3333333333333333,
              "#9c179e"
             ],
             [
              0.4444444444444444,
              "#bd3786"
             ],
             [
              0.5555555555555556,
              "#d8576b"
             ],
             [
              0.6666666666666666,
              "#ed7953"
             ],
             [
              0.7777777777777778,
              "#fb9f3a"
             ],
             [
              0.8888888888888888,
              "#fdca26"
             ],
             [
              1,
              "#f0f921"
             ]
            ],
            "type": "surface"
           }
          ],
          "table": [
           {
            "cells": {
             "fill": {
              "color": "#EBF0F8"
             },
             "line": {
              "color": "white"
             }
            },
            "header": {
             "fill": {
              "color": "#C8D4E3"
             },
             "line": {
              "color": "white"
             }
            },
            "type": "table"
           }
          ]
         },
         "layout": {
          "annotationdefaults": {
           "arrowcolor": "#2a3f5f",
           "arrowhead": 0,
           "arrowwidth": 1
          },
          "autotypenumbers": "strict",
          "coloraxis": {
           "colorbar": {
            "outlinewidth": 0,
            "ticks": ""
           }
          },
          "colorscale": {
           "diverging": [
            [
             0,
             "#8e0152"
            ],
            [
             0.1,
             "#c51b7d"
            ],
            [
             0.2,
             "#de77ae"
            ],
            [
             0.3,
             "#f1b6da"
            ],
            [
             0.4,
             "#fde0ef"
            ],
            [
             0.5,
             "#f7f7f7"
            ],
            [
             0.6,
             "#e6f5d0"
            ],
            [
             0.7,
             "#b8e186"
            ],
            [
             0.8,
             "#7fbc41"
            ],
            [
             0.9,
             "#4d9221"
            ],
            [
             1,
             "#276419"
            ]
           ],
           "sequential": [
            [
             0,
             "#0d0887"
            ],
            [
             0.1111111111111111,
             "#46039f"
            ],
            [
             0.2222222222222222,
             "#7201a8"
            ],
            [
             0.3333333333333333,
             "#9c179e"
            ],
            [
             0.4444444444444444,
             "#bd3786"
            ],
            [
             0.5555555555555556,
             "#d8576b"
            ],
            [
             0.6666666666666666,
             "#ed7953"
            ],
            [
             0.7777777777777778,
             "#fb9f3a"
            ],
            [
             0.8888888888888888,
             "#fdca26"
            ],
            [
             1,
             "#f0f921"
            ]
           ],
           "sequentialminus": [
            [
             0,
             "#0d0887"
            ],
            [
             0.1111111111111111,
             "#46039f"
            ],
            [
             0.2222222222222222,
             "#7201a8"
            ],
            [
             0.3333333333333333,
             "#9c179e"
            ],
            [
             0.4444444444444444,
             "#bd3786"
            ],
            [
             0.5555555555555556,
             "#d8576b"
            ],
            [
             0.6666666666666666,
             "#ed7953"
            ],
            [
             0.7777777777777778,
             "#fb9f3a"
            ],
            [
             0.8888888888888888,
             "#fdca26"
            ],
            [
             1,
             "#f0f921"
            ]
           ]
          },
          "colorway": [
           "#636efa",
           "#EF553B",
           "#00cc96",
           "#ab63fa",
           "#FFA15A",
           "#19d3f3",
           "#FF6692",
           "#B6E880",
           "#FF97FF",
           "#FECB52"
          ],
          "font": {
           "color": "#2a3f5f"
          },
          "geo": {
           "bgcolor": "white",
           "lakecolor": "white",
           "landcolor": "#E5ECF6",
           "showlakes": true,
           "showland": true,
           "subunitcolor": "white"
          },
          "hoverlabel": {
           "align": "left"
          },
          "hovermode": "closest",
          "mapbox": {
           "style": "light"
          },
          "paper_bgcolor": "white",
          "plot_bgcolor": "#E5ECF6",
          "polar": {
           "angularaxis": {
            "gridcolor": "white",
            "linecolor": "white",
            "ticks": ""
           },
           "bgcolor": "#E5ECF6",
           "radialaxis": {
            "gridcolor": "white",
            "linecolor": "white",
            "ticks": ""
           }
          },
          "scene": {
           "xaxis": {
            "backgroundcolor": "#E5ECF6",
            "gridcolor": "white",
            "gridwidth": 2,
            "linecolor": "white",
            "showbackground": true,
            "ticks": "",
            "zerolinecolor": "white"
           },
           "yaxis": {
            "backgroundcolor": "#E5ECF6",
            "gridcolor": "white",
            "gridwidth": 2,
            "linecolor": "white",
            "showbackground": true,
            "ticks": "",
            "zerolinecolor": "white"
           },
           "zaxis": {
            "backgroundcolor": "#E5ECF6",
            "gridcolor": "white",
            "gridwidth": 2,
            "linecolor": "white",
            "showbackground": true,
            "ticks": "",
            "zerolinecolor": "white"
           }
          },
          "shapedefaults": {
           "line": {
            "color": "#2a3f5f"
           }
          },
          "ternary": {
           "aaxis": {
            "gridcolor": "white",
            "linecolor": "white",
            "ticks": ""
           },
           "baxis": {
            "gridcolor": "white",
            "linecolor": "white",
            "ticks": ""
           },
           "bgcolor": "#E5ECF6",
           "caxis": {
            "gridcolor": "white",
            "linecolor": "white",
            "ticks": ""
           }
          },
          "title": {
           "x": 0.05
          },
          "xaxis": {
           "automargin": true,
           "gridcolor": "white",
           "linecolor": "white",
           "ticks": "",
           "title": {
            "standoff": 15
           },
           "zerolinecolor": "white",
           "zerolinewidth": 2
          },
          "yaxis": {
           "automargin": true,
           "gridcolor": "white",
           "linecolor": "white",
           "ticks": "",
           "title": {
            "standoff": 15
           },
           "zerolinecolor": "white",
           "zerolinewidth": 2
          }
         }
        },
        "title": {
         "text": "Census 2011 India: Statewise literacy % Male vs Female"
        },
        "width": 1000,
        "xaxis": {
         "anchor": "y",
         "domain": [
          0,
          1
         ],
         "showgrid": false,
         "title": {}
        },
        "yaxis": {
         "anchor": "x",
         "domain": [
          0,
          1
         ],
         "showgrid": false,
         "title": {}
        }
       }
      }
     },
     "metadata": {},
     "output_type": "display_data"
    },
    {
     "data": {
      "image/png": "[encoded data removed]",
      "text/plain": [
       "<Figure size 1000x800 with 1 Axes>"
      ]
     },
     "metadata": {},
     "output_type": "display_data"
    },
    {
     "data": {
      "image/png": "[encoded data removed]",
      "text/plain": [
       "<Figure size 1000x800 with 1 Axes>"
      ]
     },
     "metadata": {},
     "output_type": "display_data"
    }
   ],
   "source": [
    "if __name__ == \"__main__\":\n",
    "    literacy_data_url = r\"https://www.census2011.co.in/literacy.php\"\n",
    "    df_literacy = literary_rate_data(literacy_data_url)\n",
    "    #print(type(df_literacy))\n",
    "    #df_literacy.head()\n",
    "    filename_lit=\"LiteracyIndiaStatewiseGender.png\"\n",
    "    create_dumbell(df_literacy, \"Male\", \"State\", \"Female\", \"State\", filename=filename_lit)\n",
    "    urban_rural_data_url = r\"https://censusindia.gov.in/nada/index.php/catalog/42555/download/46181/2011-IndiaState-0000.xlsx\"\n",
    "    df_urban_rural = urban_rural_pop_data(urban_rural_data_url)\n",
    "    filename_pop=\"RuralUrbanPopulationStatewise.png\"\n",
    "    create_dumbell(df_urban_rural, \"Urban Population\", \"Name\", \"Rural Population\", \"Name\", filename=filename_pop)\n",
    "    #generate literacy % plot using plotly\n",
    "    generate_plotly_dumbell_plot(df_literacy)"
   ]
  }
 ],
 "metadata": {
  "kernelspec": {
   "display_name": "Python 3 (ipykernel)",
   "language": "python",
   "name": "python3"
  },
  "language_info": {
   "codemirror_mode": {
    "name": "ipython",
    "version": 3
   },
   "file_extension": ".py",
   "mimetype": "text/x-python",
   "name": "python",
   "nbconvert_exporter": "python",
   "pygments_lexer": "ipython3",
   "version": "3.10.6"
  },
  "require": {
   "paths": {
    "buttons.colvis": "https://cdn.datatables.net/buttons/1.5.6/js/buttons.colVis.min",
    "buttons.flash": "https://cdn.datatables.net/buttons/1.5.6/js/buttons.flash.min",
    "buttons.html5": "https://cdn.datatables.net/buttons/1.5.6/js/buttons.html5.min",
    "buttons.print": "https://cdn.datatables.net/buttons/1.5.6/js/buttons.print.min",
    "chartjs": "https://cdnjs.cloudflare.com/ajax/libs/Chart.js/2.8.0/Chart",
    "d3": "https://d3js.org/d3.v5.min",
    "d3-array": "https://d3js.org/d3-array.v2.min",
    "datatables.net": "https://cdn.datatables.net/1.10.18/js/jquery.dataTables",
    "datatables.net-buttons": "https://cdn.datatables.net/buttons/1.5.6/js/dataTables.buttons.min",
    "datatables.responsive": "https://cdn.datatables.net/responsive/2.2.2/js/dataTables.responsive.min",
    "datatables.scroller": "https://cdn.datatables.net/scroller/2.0.0/js/dataTables.scroller.min",
    "datatables.select": "https://cdn.datatables.net/select/1.3.0/js/dataTables.select.min",
    "jszip": "https://cdnjs.cloudflare.com/ajax/libs/jszip/2.5.0/jszip.min",
    "moment": "https://cdnjs.cloudflare.com/ajax/libs/moment.js/2.8.0/moment",
    "pdfmake": "https://cdnjs.cloudflare.com/ajax/libs/pdfmake/0.1.36/pdfmake.min",
    "vfsfonts": "https://cdnjs.cloudflare.com/ajax/libs/pdfmake/0.1.36/vfs_fonts"
   },
   "shim": {
    "buttons.colvis": {
     "deps": [
      "jszip",
      "datatables.net-buttons"
     ]
    },
    "buttons.flash": {
     "deps": [
      "jszip",
      "datatables.net-buttons"
     ]
    },
    "buttons.html5": {
     "deps": [
      "jszip",
      "datatables.net-buttons"
     ]
    },
    "buttons.print": {
     "deps": [
      "jszip",
      "datatables.net-buttons"
     ]
    },
    "chartjs": {
     "deps": [
      "moment"
     ]
    },
    "datatables.net": {
     "exports": "$.fn.dataTable"
    },
    "datatables.net-buttons": {
     "deps": [
      "datatables.net"
     ]
    },
    "pdfmake": {
     "deps": [
      "datatables.net"
     ]
    },
    "vfsfonts": {
     "deps": [
      "datatables.net"
     ]
    }
   }
  },
  "vscode": {
   "interpreter": {
    "hash": "3cee5e6af52b614a2e05ee197feec5e074306649e114bab392c7e028463de2a0"
   }
  }
 },
 "nbformat": 4,
 "nbformat_minor": 2
}
